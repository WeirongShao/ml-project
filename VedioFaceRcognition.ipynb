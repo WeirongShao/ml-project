{
 "cells": [
  {
   "cell_type": "code",
   "execution_count": null,
   "metadata": {
    "collapsed": true
   },
   "outputs": [],
   "source": [
    "import face_recognition\n",
    "import cv2\n",
    "\n",
    "video_capture = cv2.VideoCapture(0)\n",
    "\n",
    "#code below are modified\n",
    "# Load a sample picture and learn how to recognize it.\n",
    "rangan_image = face_recognition.load_image_file(\"/Users/weirong/Desktop/picture-2277.jpg.jpeg\")\n",
    "rangan_face_encoding = face_recognition.face_encodings(rangan_image)[0]\n",
    "shao_image = face_recognition.load_image_file(\"/Users/weirong/Desktop/WechatIMG14.jpeg.jpg\")\n",
    "shao_face_encoding = face_recognition.face_encodings(shao_image)[0]\n",
    "# Initialize some variables\n",
    "face_locations = []\n",
    "face_encodings = []\n",
    "face_names = []\n",
    "process_this_frame = True\n",
    "\n",
    "#2 lines below are from github.\n",
    "while True:\n",
    "    # Grab a single frame of video\n",
    "    ret, frame = video_capture.read()\n",
    "\n",
    "    #code below are modified\n",
    "    small_frame = cv2.resize(frame, (0, 0), fx=1, fy=1)\n",
    "    if process_this_frame:\n",
    "        face_locations = face_recognition.face_locations(small_frame)\n",
    "        face_encodings = face_recognition.face_encodings(small_frame, face_locations)\n",
    "        face_names = []\n",
    "        for face_encoding in face_encodings:\n",
    "            # See if the face is a match for the known face(s)\n",
    "            match0 = face_recognition.compare_faces([rangan_face_encoding], face_encoding)\n",
    "            match1 = face_recognition.compare_faces([shao_face_encoding], face_encoding)\n",
    "            name = \"Unknown\"\n",
    "            if match0[0]:\n",
    "                name = \"Sundeep Rangan\"\n",
    "            if match1[0]:\n",
    "                name = \"shao\"\n",
    "            face_names.append(name)\n",
    "\n",
    "    process_this_frame = not process_this_frame\n",
    "\n",
    "    #code below are from github\n",
    "    # to Display the results\n",
    "    for (top, right, bottom, left), name in zip(face_locations, face_names):\n",
    "        cv2.rectangle(frame, (left, top), (right, bottom), (0, 0, 255), 2)\n",
    "        # Draw a label with a name below the face\n",
    "        cv2.rectangle(frame, (left, bottom - 35), (right, bottom), (0, 0, 255), cv2.FILLED)\n",
    "        font = cv2.FONT_HERSHEY_DUPLEX\n",
    "        cv2.putText(frame, name, (left + 6, bottom - 6), font, 1.0, (255, 255, 255), 1)\n",
    "\n",
    "    cv2.imshow('Video', frame)\n",
    "    if cv2.waitKey(1) & 0xFF == ord('q'):\n",
    "        break\n",
    "\n",
    "video_capture.release()\n",
    "cv2.destroyAllWindows()\n"
   ]
  },
  {
   "cell_type": "code",
   "execution_count": null,
   "metadata": {
    "collapsed": true
   },
   "outputs": [],
   "source": []
  },
  {
   "cell_type": "code",
   "execution_count": null,
   "metadata": {
    "collapsed": true
   },
   "outputs": [],
   "source": []
  }
 ],
 "metadata": {
  "kernelspec": {
   "display_name": "Python 3",
   "language": "python",
   "name": "python3"
  },
  "language_info": {
   "codemirror_mode": {
    "name": "ipython",
    "version": 3
   },
   "file_extension": ".py",
   "mimetype": "text/x-python",
   "name": "python",
   "nbconvert_exporter": "python",
   "pygments_lexer": "ipython3",
   "version": "3.6.3"
  }
 },
 "nbformat": 4,
 "nbformat_minor": 2
}
